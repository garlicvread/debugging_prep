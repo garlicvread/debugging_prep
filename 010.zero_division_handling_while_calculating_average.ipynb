{
 "cells": [
  {
   "cell_type": "markdown",
   "source": [
    "Zero division handling while calculating average of inputted scores.\n",
    "- When the input has no actual scores, which means if the input looks [\"\", \"\", \"\"], return **None**."
   ],
   "metadata": {
    "collapsed": false
   }
  },
  {
   "cell_type": "code",
   "execution_count": 1,
   "outputs": [
    {
     "name": "stdout",
     "output_type": "stream",
     "text": [
      "35.0점\n"
     ]
    },
    {
     "ename": "ValueError",
     "evalue": "invalid literal for int() with base 10: ''",
     "output_type": "error",
     "traceback": [
      "\u001B[1;31m---------------------------------------------------------------------------\u001B[0m",
      "\u001B[1;31mValueError\u001B[0m                                Traceback (most recent call last)",
      "\u001B[1;32m~\\AppData\\Local\\Temp/ipykernel_296/3782346389.py\u001B[0m in \u001B[0;36m<module>\u001B[1;34m\u001B[0m\n\u001B[0;32m     14\u001B[0m \u001B[1;33m\u001B[0m\u001B[0m\n\u001B[0;32m     15\u001B[0m \u001B[0mprint\u001B[0m\u001B[1;33m(\u001B[0m\u001B[0mget_average_score\u001B[0m\u001B[1;33m(\u001B[0m\u001B[1;33m[\u001B[0m\u001B[1;34m'20점'\u001B[0m\u001B[1;33m,\u001B[0m \u001B[1;34m'55점'\u001B[0m\u001B[1;33m,\u001B[0m \u001B[1;34m'30점'\u001B[0m\u001B[1;33m]\u001B[0m\u001B[1;33m)\u001B[0m\u001B[1;33m)\u001B[0m\u001B[1;33m\u001B[0m\u001B[1;33m\u001B[0m\u001B[0m\n\u001B[1;32m---> 16\u001B[1;33m \u001B[0mprint\u001B[0m\u001B[1;33m(\u001B[0m\u001B[0mget_average_score\u001B[0m\u001B[1;33m(\u001B[0m\u001B[1;33m[\u001B[0m\u001B[1;34m''\u001B[0m\u001B[1;33m,\u001B[0m \u001B[1;34m'30점'\u001B[0m\u001B[1;33m]\u001B[0m\u001B[1;33m)\u001B[0m\u001B[1;33m)\u001B[0m\u001B[1;33m\u001B[0m\u001B[1;33m\u001B[0m\u001B[0m\n\u001B[0m\u001B[0;32m     17\u001B[0m \u001B[0mprint\u001B[0m\u001B[1;33m(\u001B[0m\u001B[0mget_average_score\u001B[0m\u001B[1;33m(\u001B[0m\u001B[1;33m[\u001B[0m\u001B[1;34m''\u001B[0m\u001B[1;33m,\u001B[0m \u001B[1;34m''\u001B[0m\u001B[1;33m]\u001B[0m\u001B[1;33m)\u001B[0m\u001B[1;33m)\u001B[0m\u001B[1;33m\u001B[0m\u001B[1;33m\u001B[0m\u001B[0m\n\u001B[0;32m     18\u001B[0m \u001B[1;33m\u001B[0m\u001B[0m\n",
      "\u001B[1;32m~\\AppData\\Local\\Temp/ipykernel_296/3782346389.py\u001B[0m in \u001B[0;36mget_average_score\u001B[1;34m(scores)\u001B[0m\n\u001B[0;32m      7\u001B[0m         \u001B[0mpoint\u001B[0m \u001B[1;33m=\u001B[0m \u001B[0mscore\u001B[0m\u001B[1;33m[\u001B[0m\u001B[1;33m:\u001B[0m\u001B[1;33m-\u001B[0m\u001B[1;36m1\u001B[0m\u001B[1;33m]\u001B[0m\u001B[1;33m\u001B[0m\u001B[1;33m\u001B[0m\u001B[0m\n\u001B[0;32m      8\u001B[0m \u001B[1;33m\u001B[0m\u001B[0m\n\u001B[1;32m----> 9\u001B[1;33m         \u001B[0msum_scores\u001B[0m \u001B[1;33m+=\u001B[0m \u001B[0mint\u001B[0m\u001B[1;33m(\u001B[0m\u001B[0mpoint\u001B[0m\u001B[1;33m)\u001B[0m\u001B[1;33m\u001B[0m\u001B[1;33m\u001B[0m\u001B[0m\n\u001B[0m\u001B[0;32m     10\u001B[0m \u001B[1;33m\u001B[0m\u001B[0m\n\u001B[0;32m     11\u001B[0m     \u001B[0maverage\u001B[0m \u001B[1;33m=\u001B[0m \u001B[0msum_scores\u001B[0m \u001B[1;33m/\u001B[0m \u001B[0mlen\u001B[0m\u001B[1;33m(\u001B[0m\u001B[0mscores\u001B[0m\u001B[1;33m)\u001B[0m\u001B[1;33m\u001B[0m\u001B[1;33m\u001B[0m\u001B[0m\n",
      "\u001B[1;31mValueError\u001B[0m: invalid literal for int() with base 10: ''"
     ]
    }
   ],
   "source": [
    "# Problem\n",
    "\n",
    "def get_average_score(scores):\n",
    "    sum_scores = 0\n",
    "    for score in scores:\n",
    "        # '점'이라는 글자를 제거합니다.\n",
    "        point = score[:-1]\n",
    "\n",
    "        sum_scores += int(point)\n",
    "\n",
    "    average = sum_scores / len(scores)\n",
    "    return str(average) + '점'\n",
    "\n",
    "\n",
    "print(get_average_score(['20점', '55점', '30점']))\n",
    "print(get_average_score(['', '30점']))\n",
    "print(get_average_score(['', '']))\n"
   ],
   "metadata": {
    "collapsed": false,
    "pycharm": {
     "name": "#%%\n"
    }
   }
  },
  {
   "cell_type": "code",
   "execution_count": 2,
   "metadata": {
    "collapsed": true,
    "pycharm": {
     "name": "#%%\n"
    }
   },
   "outputs": [
    {
     "name": "stdout",
     "output_type": "stream",
     "text": [
      "35.0점\n",
      "30.0점\n",
      "None\n"
     ]
    }
   ],
   "source": [
    "# Solution\n",
    "\n",
    "def get_average_score(scores):\n",
    "    sum_scores = 0\n",
    "    score_count = 0\n",
    "\n",
    "    for score in scores:\n",
    "        # '점'이라는 글자를 제거합니다.\n",
    "        point = score[:-1]\n",
    "\n",
    "        if point == \"\":\n",
    "            continue\n",
    "        else:\n",
    "            sum_scores += int(point)\n",
    "            score_count += 1\n",
    "\n",
    "    if score_count == 0:\n",
    "        return None\n",
    "\n",
    "\n",
    "    average = sum_scores / score_count\n",
    "    return f\"{average}점\"\n",
    "\n",
    "\n",
    "print(get_average_score(['20점', '55점', '30점']))\n",
    "print(get_average_score(['', '30점']))\n",
    "print(get_average_score(['', '']))\n"
   ]
  }
 ],
 "metadata": {
  "kernelspec": {
   "display_name": "Python 3",
   "language": "python",
   "name": "python3"
  },
  "language_info": {
   "codemirror_mode": {
    "name": "ipython",
    "version": 2
   },
   "file_extension": ".py",
   "mimetype": "text/x-python",
   "name": "python",
   "nbconvert_exporter": "python",
   "pygments_lexer": "ipython2",
   "version": "2.7.6"
  }
 },
 "nbformat": 4,
 "nbformat_minor": 0
}