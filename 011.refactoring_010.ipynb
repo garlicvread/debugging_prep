{
 "cells": [
  {
   "cell_type": "markdown",
   "source": [
    "Refactoring of 010.zero_division_handling_while_calculating_average.ipynb"
   ],
   "metadata": {
    "collapsed": false
   }
  },
  {
   "cell_type": "code",
   "execution_count": 1,
   "metadata": {
    "collapsed": true
   },
   "outputs": [
    {
     "name": "stdout",
     "output_type": "stream",
     "text": [
      "35.0점\n",
      "30.0점\n",
      "None\n"
     ]
    }
   ],
   "source": [
    "# Problem\n",
    "\n",
    "def get_average_score(scores):\n",
    "    sum_scores = 0\n",
    "    valid_score_count = 0\n",
    "\n",
    "    for score in scores:\n",
    "        # 빈 문자열인 경우 세지 않습니다.\n",
    "        if score == '':\n",
    "            point = 0\n",
    "\n",
    "        # '점'이라는 글자를 제거합니다.\n",
    "        else:\n",
    "            point = int(score[:-1])\n",
    "            valid_score_count += 1\n",
    "\n",
    "        sum_scores += point\n",
    "\n",
    "    if valid_score_count == 0:\n",
    "        return None\n",
    "\n",
    "    average = sum_scores / valid_score_count\n",
    "    return str(average) + '점'\n",
    "\n",
    "\n",
    "print(get_average_score(['20점', '55점', '30점']))\n",
    "print(get_average_score(['', '30점']))\n",
    "print(get_average_score(['', '']))\n"
   ]
  },
  {
   "cell_type": "code",
   "execution_count": 2,
   "outputs": [
    {
     "name": "stdout",
     "output_type": "stream",
     "text": [
      "35.0점\n",
      "30.0점\n",
      "None\n"
     ]
    }
   ],
   "source": [
    "# Solution\n",
    "\n",
    "def get_average_score(scores):\n",
    "    sum_scores = 0\n",
    "    counts = 0\n",
    "\n",
    "    for score in scores:\n",
    "\n",
    "        try:\n",
    "            sum_scores += int(score[:-1])\n",
    "            counts += 1\n",
    "\n",
    "        except ValueError:\n",
    "            pass\n",
    "\n",
    "    try:\n",
    "        average = sum_scores / counts\n",
    "        return str(average) + '점'\n",
    "\n",
    "    except ZeroDivisionError:\n",
    "        return None\n",
    "\n",
    "\n",
    "print(get_average_score(['20점', '55점', '30점']))\n",
    "print(get_average_score(['', '30점']))\n",
    "print(get_average_score(['', '']))"
   ],
   "metadata": {
    "collapsed": false,
    "pycharm": {
     "name": "#%%\n"
    }
   }
  },
  {
   "cell_type": "code",
   "execution_count": null,
   "outputs": [],
   "source": [],
   "metadata": {
    "collapsed": false,
    "pycharm": {
     "name": "#%%\n"
    }
   }
  }
 ],
 "metadata": {
  "kernelspec": {
   "display_name": "Python 3",
   "language": "python",
   "name": "python3"
  },
  "language_info": {
   "codemirror_mode": {
    "name": "ipython",
    "version": 2
   },
   "file_extension": ".py",
   "mimetype": "text/x-python",
   "name": "python",
   "nbconvert_exporter": "python",
   "pygments_lexer": "ipython2",
   "version": "2.7.6"
  }
 },
 "nbformat": 4,
 "nbformat_minor": 0
}