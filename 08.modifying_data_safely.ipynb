{
 "cells": [
  {
   "cell_type": "markdown",
   "source": [
    "Modify the data without changing its original data."
   ],
   "metadata": {
    "collapsed": false
   }
  },
  {
   "cell_type": "code",
   "execution_count": 1,
   "outputs": [
    {
     "name": "stdout",
     "output_type": "stream",
     "text": [
      "1 3 5 7 9 2 4 6 8 10\n",
      "1 3 5 7 9 2 4 6 8 10\n"
     ]
    }
   ],
   "source": [
    "# Problem\n",
    "\n",
    "def main() :\n",
    "    array = [int(v) for v in input().split()]\n",
    "\n",
    "    new_array = array\n",
    "\n",
    "    temp = [int(v) for v in input().split()]\n",
    "\n",
    "    for t in temp :\n",
    "        new_array.append(t)\n",
    "\n",
    "\n",
    "    print(*array)\n",
    "    print(*new_array)\n",
    "\n",
    "\n",
    "if __name__ == \"__main__\" :\n",
    "    main()\n"
   ],
   "metadata": {
    "collapsed": false,
    "pycharm": {
     "name": "#%%\n"
    }
   }
  },
  {
   "cell_type": "code",
   "execution_count": 2,
   "metadata": {
    "collapsed": true
   },
   "outputs": [
    {
     "name": "stdout",
     "output_type": "stream",
     "text": [
      "2 4 6 8 10\n",
      "2 4 6 8 10 1 3 5 7 9\n"
     ]
    }
   ],
   "source": [
    "# Solution\n",
    "\n",
    "def main():\n",
    "    array = [int(v) for v in input().split()]\n",
    "\n",
    "    temp = [int(v) for v in input().split()]\n",
    "\n",
    "    a = []\n",
    "\n",
    "    for n in array:\n",
    "        a.append(n)\n",
    "\n",
    "    for t in temp:\n",
    "        a.append(t)\n",
    "\n",
    "    new_array = a\n",
    "\n",
    "    print(*array)\n",
    "    print(*new_array)\n",
    "\n",
    "\n",
    "if __name__ == \"__main__\":\n",
    "    main()"
   ]
  },
  {
   "cell_type": "code",
   "execution_count": null,
   "outputs": [],
   "source": [],
   "metadata": {
    "collapsed": false,
    "pycharm": {
     "name": "#%%\n"
    }
   }
  }
 ],
 "metadata": {
  "kernelspec": {
   "display_name": "Python 3",
   "language": "python",
   "name": "python3"
  },
  "language_info": {
   "codemirror_mode": {
    "name": "ipython",
    "version": 2
   },
   "file_extension": ".py",
   "mimetype": "text/x-python",
   "name": "python",
   "nbconvert_exporter": "python",
   "pygments_lexer": "ipython2",
   "version": "2.7.6"
  }
 },
 "nbformat": 4,
 "nbformat_minor": 0
}